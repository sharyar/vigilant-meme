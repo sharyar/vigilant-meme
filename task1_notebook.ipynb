{
 "cells": [
  {
   "cell_type": "code",
   "execution_count": 1,
   "metadata": {
    "collapsed": true
   },
   "outputs": [],
   "source": [
    "import pandas as pd\n",
    "import numpy as np\n",
    "import matplotlib.pyplot as plt\n",
    "import seaborn as sns"
   ]
  },
  {
   "cell_type": "code",
   "execution_count": 2,
   "outputs": [],
   "source": [
    "mosquito_df = pd.read_csv('data_files/Mosquito_Trap_Data.csv')\n",
    "weather_df = pd.read_csv('data_files/weather_stats_edmonton.csv')"
   ],
   "metadata": {
    "collapsed": false,
    "pycharm": {
     "name": "#%%\n"
    }
   }
  },
  {
   "cell_type": "code",
   "execution_count": 3,
   "outputs": [
    {
     "data": {
      "text/plain": "                    Trap Date     Genus Specific Epithet  Gender   IDd  Count  \\\n0      09/15/2015 12:00:00 AM     Aedes           vexans  Female   NaN      3   \n1      05/12/1998 12:00:00 AM      Male             UnID    Male  UnID      1   \n2      08/28/2001 12:00:00 AM     Culex         tarsalis  Female   NaN      1   \n3      08/17/2004 12:00:00 AM     Culex        territans  Female   NaN      1   \n4      05/15/2018 12:00:00 AM  Culiseta        impatiens  Female   NaN      2   \n...                       ...       ...              ...     ...   ...    ...   \n27258  06/17/1997 12:00:00 AM     Aedes             spp.  Female  UnID      2   \n27259  06/03/2014 12:00:00 AM      Male             UnID    Male  UnID      2   \n27260  07/18/1995 12:00:00 AM  Mansonia       perturbans  Female   NaN      2   \n27261  08/02/2016 12:00:00 AM     Culex        territans  Female   NaN      2   \n27262  08/05/2014 12:00:00 AM      Male             UnID    Male  UnID     42   \n\n                 Trap Region Include Comparison Group   Latitude   Longitude  \\\n0                 Rural-West     NaN            Outer  53.562973 -113.787353   \n1           Rural-North West     NaN       Peripheral  53.617221 -113.716182   \n2           Rural-North West     NaN       Peripheral  53.617221 -113.716182   \n3           Rural-North West     NaN       Peripheral  53.617221 -113.716182   \n4                 Rural-West     NaN            Outer  53.559020 -114.001190   \n...                      ...     ...              ...        ...         ...   \n27258  River Valley-GC1-East     NaN             Core  53.561514 -113.438112   \n27259      River Valley-West     NaN             Core  53.504068 -113.570126   \n27260  River Valley-GC2-East     NaN             Core  53.553358 -113.462632   \n27261       Rural-North West     NaN       Peripheral  53.619232 -113.712798   \n27262             Rural-East     NaN            Outer  53.606722 -113.221359   \n\n                                     Location  \n0              POINT (-113.787353 53.5629733)  \n1               POINT (-113.716182 53.617221)  \n2               POINT (-113.716182 53.617221)  \n3               POINT (-113.716182 53.617221)  \n4       POINT (-114.00119 53.559020000000004)  \n...                                       ...  \n27258          POINT (-113.4381119 53.561514)  \n27259         POINT (-113.5701263 53.5040684)  \n27260           POINT (-113.462632 53.553358)  \n27261         POINT (-113.7127984 53.6192317)  \n27262  POINT (-113.22135870000001 53.6067218)  \n\n[27263 rows x 12 columns]",
      "text/html": "<div>\n<style scoped>\n    .dataframe tbody tr th:only-of-type {\n        vertical-align: middle;\n    }\n\n    .dataframe tbody tr th {\n        vertical-align: top;\n    }\n\n    .dataframe thead th {\n        text-align: right;\n    }\n</style>\n<table border=\"1\" class=\"dataframe\">\n  <thead>\n    <tr style=\"text-align: right;\">\n      <th></th>\n      <th>Trap Date</th>\n      <th>Genus</th>\n      <th>Specific Epithet</th>\n      <th>Gender</th>\n      <th>IDd</th>\n      <th>Count</th>\n      <th>Trap Region</th>\n      <th>Include</th>\n      <th>Comparison Group</th>\n      <th>Latitude</th>\n      <th>Longitude</th>\n      <th>Location</th>\n    </tr>\n  </thead>\n  <tbody>\n    <tr>\n      <th>0</th>\n      <td>09/15/2015 12:00:00 AM</td>\n      <td>Aedes</td>\n      <td>vexans</td>\n      <td>Female</td>\n      <td>NaN</td>\n      <td>3</td>\n      <td>Rural-West</td>\n      <td>NaN</td>\n      <td>Outer</td>\n      <td>53.562973</td>\n      <td>-113.787353</td>\n      <td>POINT (-113.787353 53.5629733)</td>\n    </tr>\n    <tr>\n      <th>1</th>\n      <td>05/12/1998 12:00:00 AM</td>\n      <td>Male</td>\n      <td>UnID</td>\n      <td>Male</td>\n      <td>UnID</td>\n      <td>1</td>\n      <td>Rural-North West</td>\n      <td>NaN</td>\n      <td>Peripheral</td>\n      <td>53.617221</td>\n      <td>-113.716182</td>\n      <td>POINT (-113.716182 53.617221)</td>\n    </tr>\n    <tr>\n      <th>2</th>\n      <td>08/28/2001 12:00:00 AM</td>\n      <td>Culex</td>\n      <td>tarsalis</td>\n      <td>Female</td>\n      <td>NaN</td>\n      <td>1</td>\n      <td>Rural-North West</td>\n      <td>NaN</td>\n      <td>Peripheral</td>\n      <td>53.617221</td>\n      <td>-113.716182</td>\n      <td>POINT (-113.716182 53.617221)</td>\n    </tr>\n    <tr>\n      <th>3</th>\n      <td>08/17/2004 12:00:00 AM</td>\n      <td>Culex</td>\n      <td>territans</td>\n      <td>Female</td>\n      <td>NaN</td>\n      <td>1</td>\n      <td>Rural-North West</td>\n      <td>NaN</td>\n      <td>Peripheral</td>\n      <td>53.617221</td>\n      <td>-113.716182</td>\n      <td>POINT (-113.716182 53.617221)</td>\n    </tr>\n    <tr>\n      <th>4</th>\n      <td>05/15/2018 12:00:00 AM</td>\n      <td>Culiseta</td>\n      <td>impatiens</td>\n      <td>Female</td>\n      <td>NaN</td>\n      <td>2</td>\n      <td>Rural-West</td>\n      <td>NaN</td>\n      <td>Outer</td>\n      <td>53.559020</td>\n      <td>-114.001190</td>\n      <td>POINT (-114.00119 53.559020000000004)</td>\n    </tr>\n    <tr>\n      <th>...</th>\n      <td>...</td>\n      <td>...</td>\n      <td>...</td>\n      <td>...</td>\n      <td>...</td>\n      <td>...</td>\n      <td>...</td>\n      <td>...</td>\n      <td>...</td>\n      <td>...</td>\n      <td>...</td>\n      <td>...</td>\n    </tr>\n    <tr>\n      <th>27258</th>\n      <td>06/17/1997 12:00:00 AM</td>\n      <td>Aedes</td>\n      <td>spp.</td>\n      <td>Female</td>\n      <td>UnID</td>\n      <td>2</td>\n      <td>River Valley-GC1-East</td>\n      <td>NaN</td>\n      <td>Core</td>\n      <td>53.561514</td>\n      <td>-113.438112</td>\n      <td>POINT (-113.4381119 53.561514)</td>\n    </tr>\n    <tr>\n      <th>27259</th>\n      <td>06/03/2014 12:00:00 AM</td>\n      <td>Male</td>\n      <td>UnID</td>\n      <td>Male</td>\n      <td>UnID</td>\n      <td>2</td>\n      <td>River Valley-West</td>\n      <td>NaN</td>\n      <td>Core</td>\n      <td>53.504068</td>\n      <td>-113.570126</td>\n      <td>POINT (-113.5701263 53.5040684)</td>\n    </tr>\n    <tr>\n      <th>27260</th>\n      <td>07/18/1995 12:00:00 AM</td>\n      <td>Mansonia</td>\n      <td>perturbans</td>\n      <td>Female</td>\n      <td>NaN</td>\n      <td>2</td>\n      <td>River Valley-GC2-East</td>\n      <td>NaN</td>\n      <td>Core</td>\n      <td>53.553358</td>\n      <td>-113.462632</td>\n      <td>POINT (-113.462632 53.553358)</td>\n    </tr>\n    <tr>\n      <th>27261</th>\n      <td>08/02/2016 12:00:00 AM</td>\n      <td>Culex</td>\n      <td>territans</td>\n      <td>Female</td>\n      <td>NaN</td>\n      <td>2</td>\n      <td>Rural-North West</td>\n      <td>NaN</td>\n      <td>Peripheral</td>\n      <td>53.619232</td>\n      <td>-113.712798</td>\n      <td>POINT (-113.7127984 53.6192317)</td>\n    </tr>\n    <tr>\n      <th>27262</th>\n      <td>08/05/2014 12:00:00 AM</td>\n      <td>Male</td>\n      <td>UnID</td>\n      <td>Male</td>\n      <td>UnID</td>\n      <td>42</td>\n      <td>Rural-East</td>\n      <td>NaN</td>\n      <td>Outer</td>\n      <td>53.606722</td>\n      <td>-113.221359</td>\n      <td>POINT (-113.22135870000001 53.6067218)</td>\n    </tr>\n  </tbody>\n</table>\n<p>27263 rows × 12 columns</p>\n</div>"
     },
     "execution_count": 3,
     "metadata": {},
     "output_type": "execute_result"
    }
   ],
   "source": [
    "mosquito_df"
   ],
   "metadata": {
    "collapsed": false,
    "pycharm": {
     "name": "#%%\n"
    }
   }
  },
  {
   "cell_type": "code",
   "execution_count": 4,
   "outputs": [
    {
     "data": {
      "text/plain": "               date_time_local    unixtime  pressure_station  pressure_sea  \\\n0      2018-12-18 16:00:00 MST  1545174000             91.73          99.7   \n1      2018-12-18 15:00:00 MST  1545170400             91.67          99.7   \n2      2018-12-18 14:00:00 MST  1545166800             91.67          99.6   \n3      2018-12-18 13:00:00 MST  1545163200             91.66          99.6   \n4      2018-12-18 12:00:00 MST  1545159600             91.75          99.7   \n...                        ...         ...               ...           ...   \n17515  2016-12-18 21:00:00 MST  1482120000             92.54         100.6   \n17516  2016-12-18 20:00:00 MST  1482116400             92.58         100.6   \n17517  2016-12-18 19:00:00 MST  1482112800             92.52         100.6   \n17518  2016-12-18 18:00:00 MST  1482109200             92.52         100.6   \n17519  2016-12-18 17:00:00 MST  1482105600             92.51         100.6   \n\n      wind_dir  wind_dir_10s  wind_speed  wind_gust  relative_humidity  \\\n0           SW          23.0         5.0        NaN               64.0   \n1            S          18.0         5.0        NaN               65.0   \n2            S          17.0         5.0        NaN               51.0   \n3           SE          13.0         2.0        NaN               50.0   \n4          NaN           NaN         0.0        NaN               59.0   \n...        ...           ...         ...        ...                ...   \n17515      WSW          26.0        15.0        NaN               50.0   \n17516        W          26.0        15.0        NaN               52.0   \n17517        W          27.0        22.0       33.0               48.0   \n17518      WNW          29.0        20.0       33.0               51.0   \n17519      WNW          29.0        23.0       35.0               60.0   \n\n       dew_point  temperature  windchill  humidex  visibility  health_index  \\\n0           -7.3         -1.3       -3.0      NaN         NaN           NaN   \n1           -6.3         -0.5       -2.0      NaN         NaN           4.0   \n2           -6.5          2.7        NaN      NaN         NaN           4.0   \n3           -6.4          2.9        NaN      NaN         NaN           3.9   \n4           -6.6          0.5        NaN      NaN         NaN           4.1   \n...          ...          ...        ...      ...         ...           ...   \n17515       -7.2          2.1        NaN      NaN         NaN           2.4   \n17516       -6.9          2.0        NaN      NaN         NaN           2.3   \n17517       -7.4          2.6        NaN      NaN         NaN           2.3   \n17518       -6.2          2.9        NaN      NaN         NaN           2.3   \n17519       -4.6          2.4        NaN      NaN         NaN           2.3   \n\n       cloud_cover_4  cloud_cover_8  cloud_cover_10  solar_radiation  \n0                NaN            NaN             NaN              NaN  \n1                NaN            NaN             NaN              NaN  \n2                NaN            NaN             NaN              NaN  \n3                NaN            NaN             NaN              NaN  \n4                NaN            NaN             NaN              NaN  \n...              ...            ...             ...              ...  \n17515            NaN            NaN             NaN              NaN  \n17516            NaN            NaN             NaN              NaN  \n17517            NaN            NaN             NaN              NaN  \n17518            NaN            NaN             NaN              NaN  \n17519            NaN            NaN             NaN              NaN  \n\n[17520 rows x 19 columns]",
      "text/html": "<div>\n<style scoped>\n    .dataframe tbody tr th:only-of-type {\n        vertical-align: middle;\n    }\n\n    .dataframe tbody tr th {\n        vertical-align: top;\n    }\n\n    .dataframe thead th {\n        text-align: right;\n    }\n</style>\n<table border=\"1\" class=\"dataframe\">\n  <thead>\n    <tr style=\"text-align: right;\">\n      <th></th>\n      <th>date_time_local</th>\n      <th>unixtime</th>\n      <th>pressure_station</th>\n      <th>pressure_sea</th>\n      <th>wind_dir</th>\n      <th>wind_dir_10s</th>\n      <th>wind_speed</th>\n      <th>wind_gust</th>\n      <th>relative_humidity</th>\n      <th>dew_point</th>\n      <th>temperature</th>\n      <th>windchill</th>\n      <th>humidex</th>\n      <th>visibility</th>\n      <th>health_index</th>\n      <th>cloud_cover_4</th>\n      <th>cloud_cover_8</th>\n      <th>cloud_cover_10</th>\n      <th>solar_radiation</th>\n    </tr>\n  </thead>\n  <tbody>\n    <tr>\n      <th>0</th>\n      <td>2018-12-18 16:00:00 MST</td>\n      <td>1545174000</td>\n      <td>91.73</td>\n      <td>99.7</td>\n      <td>SW</td>\n      <td>23.0</td>\n      <td>5.0</td>\n      <td>NaN</td>\n      <td>64.0</td>\n      <td>-7.3</td>\n      <td>-1.3</td>\n      <td>-3.0</td>\n      <td>NaN</td>\n      <td>NaN</td>\n      <td>NaN</td>\n      <td>NaN</td>\n      <td>NaN</td>\n      <td>NaN</td>\n      <td>NaN</td>\n    </tr>\n    <tr>\n      <th>1</th>\n      <td>2018-12-18 15:00:00 MST</td>\n      <td>1545170400</td>\n      <td>91.67</td>\n      <td>99.7</td>\n      <td>S</td>\n      <td>18.0</td>\n      <td>5.0</td>\n      <td>NaN</td>\n      <td>65.0</td>\n      <td>-6.3</td>\n      <td>-0.5</td>\n      <td>-2.0</td>\n      <td>NaN</td>\n      <td>NaN</td>\n      <td>4.0</td>\n      <td>NaN</td>\n      <td>NaN</td>\n      <td>NaN</td>\n      <td>NaN</td>\n    </tr>\n    <tr>\n      <th>2</th>\n      <td>2018-12-18 14:00:00 MST</td>\n      <td>1545166800</td>\n      <td>91.67</td>\n      <td>99.6</td>\n      <td>S</td>\n      <td>17.0</td>\n      <td>5.0</td>\n      <td>NaN</td>\n      <td>51.0</td>\n      <td>-6.5</td>\n      <td>2.7</td>\n      <td>NaN</td>\n      <td>NaN</td>\n      <td>NaN</td>\n      <td>4.0</td>\n      <td>NaN</td>\n      <td>NaN</td>\n      <td>NaN</td>\n      <td>NaN</td>\n    </tr>\n    <tr>\n      <th>3</th>\n      <td>2018-12-18 13:00:00 MST</td>\n      <td>1545163200</td>\n      <td>91.66</td>\n      <td>99.6</td>\n      <td>SE</td>\n      <td>13.0</td>\n      <td>2.0</td>\n      <td>NaN</td>\n      <td>50.0</td>\n      <td>-6.4</td>\n      <td>2.9</td>\n      <td>NaN</td>\n      <td>NaN</td>\n      <td>NaN</td>\n      <td>3.9</td>\n      <td>NaN</td>\n      <td>NaN</td>\n      <td>NaN</td>\n      <td>NaN</td>\n    </tr>\n    <tr>\n      <th>4</th>\n      <td>2018-12-18 12:00:00 MST</td>\n      <td>1545159600</td>\n      <td>91.75</td>\n      <td>99.7</td>\n      <td>NaN</td>\n      <td>NaN</td>\n      <td>0.0</td>\n      <td>NaN</td>\n      <td>59.0</td>\n      <td>-6.6</td>\n      <td>0.5</td>\n      <td>NaN</td>\n      <td>NaN</td>\n      <td>NaN</td>\n      <td>4.1</td>\n      <td>NaN</td>\n      <td>NaN</td>\n      <td>NaN</td>\n      <td>NaN</td>\n    </tr>\n    <tr>\n      <th>...</th>\n      <td>...</td>\n      <td>...</td>\n      <td>...</td>\n      <td>...</td>\n      <td>...</td>\n      <td>...</td>\n      <td>...</td>\n      <td>...</td>\n      <td>...</td>\n      <td>...</td>\n      <td>...</td>\n      <td>...</td>\n      <td>...</td>\n      <td>...</td>\n      <td>...</td>\n      <td>...</td>\n      <td>...</td>\n      <td>...</td>\n      <td>...</td>\n    </tr>\n    <tr>\n      <th>17515</th>\n      <td>2016-12-18 21:00:00 MST</td>\n      <td>1482120000</td>\n      <td>92.54</td>\n      <td>100.6</td>\n      <td>WSW</td>\n      <td>26.0</td>\n      <td>15.0</td>\n      <td>NaN</td>\n      <td>50.0</td>\n      <td>-7.2</td>\n      <td>2.1</td>\n      <td>NaN</td>\n      <td>NaN</td>\n      <td>NaN</td>\n      <td>2.4</td>\n      <td>NaN</td>\n      <td>NaN</td>\n      <td>NaN</td>\n      <td>NaN</td>\n    </tr>\n    <tr>\n      <th>17516</th>\n      <td>2016-12-18 20:00:00 MST</td>\n      <td>1482116400</td>\n      <td>92.58</td>\n      <td>100.6</td>\n      <td>W</td>\n      <td>26.0</td>\n      <td>15.0</td>\n      <td>NaN</td>\n      <td>52.0</td>\n      <td>-6.9</td>\n      <td>2.0</td>\n      <td>NaN</td>\n      <td>NaN</td>\n      <td>NaN</td>\n      <td>2.3</td>\n      <td>NaN</td>\n      <td>NaN</td>\n      <td>NaN</td>\n      <td>NaN</td>\n    </tr>\n    <tr>\n      <th>17517</th>\n      <td>2016-12-18 19:00:00 MST</td>\n      <td>1482112800</td>\n      <td>92.52</td>\n      <td>100.6</td>\n      <td>W</td>\n      <td>27.0</td>\n      <td>22.0</td>\n      <td>33.0</td>\n      <td>48.0</td>\n      <td>-7.4</td>\n      <td>2.6</td>\n      <td>NaN</td>\n      <td>NaN</td>\n      <td>NaN</td>\n      <td>2.3</td>\n      <td>NaN</td>\n      <td>NaN</td>\n      <td>NaN</td>\n      <td>NaN</td>\n    </tr>\n    <tr>\n      <th>17518</th>\n      <td>2016-12-18 18:00:00 MST</td>\n      <td>1482109200</td>\n      <td>92.52</td>\n      <td>100.6</td>\n      <td>WNW</td>\n      <td>29.0</td>\n      <td>20.0</td>\n      <td>33.0</td>\n      <td>51.0</td>\n      <td>-6.2</td>\n      <td>2.9</td>\n      <td>NaN</td>\n      <td>NaN</td>\n      <td>NaN</td>\n      <td>2.3</td>\n      <td>NaN</td>\n      <td>NaN</td>\n      <td>NaN</td>\n      <td>NaN</td>\n    </tr>\n    <tr>\n      <th>17519</th>\n      <td>2016-12-18 17:00:00 MST</td>\n      <td>1482105600</td>\n      <td>92.51</td>\n      <td>100.6</td>\n      <td>WNW</td>\n      <td>29.0</td>\n      <td>23.0</td>\n      <td>35.0</td>\n      <td>60.0</td>\n      <td>-4.6</td>\n      <td>2.4</td>\n      <td>NaN</td>\n      <td>NaN</td>\n      <td>NaN</td>\n      <td>2.3</td>\n      <td>NaN</td>\n      <td>NaN</td>\n      <td>NaN</td>\n      <td>NaN</td>\n    </tr>\n  </tbody>\n</table>\n<p>17520 rows × 19 columns</p>\n</div>"
     },
     "execution_count": 4,
     "metadata": {},
     "output_type": "execute_result"
    }
   ],
   "source": [
    "weather_df"
   ],
   "metadata": {
    "collapsed": false,
    "pycharm": {
     "name": "#%%\n"
    }
   }
  },
  {
   "cell_type": "code",
   "execution_count": 5,
   "outputs": [
    {
     "data": {
      "text/plain": "date_time_local       object\nunixtime               int64\npressure_station     float64\npressure_sea         float64\nwind_dir              object\nwind_dir_10s         float64\nwind_speed           float64\nwind_gust            float64\nrelative_humidity    float64\ndew_point            float64\ntemperature          float64\nwindchill            float64\nhumidex              float64\nvisibility           float64\nhealth_index         float64\ncloud_cover_4        float64\ncloud_cover_8        float64\ncloud_cover_10       float64\nsolar_radiation      float64\ndtype: object"
     },
     "execution_count": 5,
     "metadata": {},
     "output_type": "execute_result"
    }
   ],
   "source": [
    "weather_df.dtypes"
   ],
   "metadata": {
    "collapsed": false,
    "pycharm": {
     "name": "#%%\n"
    }
   }
  },
  {
   "cell_type": "markdown",
   "source": [
    "# Things to keep in mind and solve:\n",
    "\n",
    "1. Date format are different between the data sets.\n",
    "2. Parsing dates from pandas?\n",
    "3. Remove data missing values?\n",
    "4. Match TIme Durations between weather and Mosquito DF - Keep only data from weather df\n",
    "\n"
   ],
   "metadata": {
    "collapsed": false
   }
  }
 ],
 "metadata": {
  "kernelspec": {
   "display_name": "Python 3",
   "language": "python",
   "name": "python3"
  },
  "language_info": {
   "codemirror_mode": {
    "name": "ipython",
    "version": 2
   },
   "file_extension": ".py",
   "mimetype": "text/x-python",
   "name": "python",
   "nbconvert_exporter": "python",
   "pygments_lexer": "ipython2",
   "version": "2.7.6"
  }
 },
 "nbformat": 4,
 "nbformat_minor": 0
}