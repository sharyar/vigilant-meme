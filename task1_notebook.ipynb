{
 "cells": [
  {
   "cell_type": "code",
   "execution_count": 1,
   "metadata": {
    "collapsed": true
   },
   "outputs": [],
   "source": [
    "import pandas as pd\n",
    "import numpy as np\n",
    "import matplotlib.pyplot as plt\n",
    "import seaborn as sns\n",
    "import datetime\n",
    "import helper_functions"
   ]
  },
  {
   "cell_type": "code",
   "execution_count": 2,
   "outputs": [],
   "source": [
    "mosquito_df = pd.read_csv('data_files/Mosquito_Trap_Data.csv')\n",
    "weather_df = pd.read_csv('data_files/weather_stats_edmonton.csv')"
   ],
   "metadata": {
    "collapsed": false,
    "pycharm": {
     "name": "#%%\n"
    }
   }
  },
  {
   "cell_type": "code",
   "execution_count": 3,
   "outputs": [],
   "source": [
    "mosquito_df_prep = helper_functions.clean_mosquito_df(mosquito_df)\n",
    "weather_df_prep = helper_functions.clean_weather_df(weather_df)\n",
    "weather_df_prep = helper_functions.preprocess_weather(weather_df_prep, ['2D', '7D', '14D'])\n",
    "\n"
   ],
   "metadata": {
    "collapsed": false,
    "pycharm": {
     "name": "#%%\n"
    }
   }
  },
  {
   "cell_type": "markdown",
   "source": [
    "## Data Cleaning\n",
    "\n",
    "### mosquito_df\n",
    "\n",
    "1. Find and remove/impute missing values.\n",
    "2. Remove rows marked as 'No' in 'Include' column\n",
    "3. Remove rows marked as 'UnID' in the 'IDd' column\n",
    "4. Aggregate data for species for the same dates - groupby\n",
    "5. (Maybe) Aggregate data for locations since no locations exist in weather.\n",
    "\n",
    "\n",
    "### weather_df\n",
    "\n",
    "1. Remove columns: visibility, cloud cover, humidex, windchill, solar radiation\n",
    "2. Find and remove/impute missing values.\n",
    "3. Remove info from weather df for date ranges not found in Mousquito_df with a 2 week buffer to account for candles\n",
    "\n",
    "## Data Pre-processing/Feature Engineering"
   ],
   "metadata": {
    "collapsed": false,
    "pycharm": {
     "name": "#%% md\n"
    }
   }
  }
 ],
 "metadata": {
  "kernelspec": {
   "display_name": "Python 3",
   "language": "python",
   "name": "python3"
  },
  "language_info": {
   "codemirror_mode": {
    "name": "ipython",
    "version": 2
   },
   "file_extension": ".py",
   "mimetype": "text/x-python",
   "name": "python",
   "nbconvert_exporter": "python",
   "pygments_lexer": "ipython2",
   "version": "2.7.6"
  }
 },
 "nbformat": 4,
 "nbformat_minor": 0
}