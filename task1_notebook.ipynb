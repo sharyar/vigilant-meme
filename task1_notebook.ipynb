{
 "cells": [
  {
   "cell_type": "markdown",
   "metadata": {},
   "source": [
    "# ECE 670 X1 Mini Project 1"
   ]
  },
  {
   "cell_type": "markdown",
   "metadata": {},
   "source": [
    "## Task 1 - Mosquito Trap Data and Weather Data"
   ]
  },
  {
   "cell_type": "markdown",
   "metadata": {},
   "source": [
    "<b>Problem Statement</b>\n",
    "\n",
    "For Task 1, we were tasked in the creation of 3 regression models using Edmonton weather data and Edmonton Mosquito Trap data. These models were meant to represent a function between the number of observed mosquitoes when considering a number of weather features.\n",
    "\n",
    "In total, 3 models were created:\n",
    "1. A linear regression model to represent the number of observed mosquitoes given a number of weather features. \n",
    "2. A linear regression model to represent the number of female mosquitoes given the same weather data.\n",
    "3. A polynomial model to model the number of female mosquitoes given the same weather data."
   ]
  },
  {
   "cell_type": "markdown",
   "metadata": {},
   "source": [
    "### Data Pre-processing"
   ]
  },
  {
   "cell_type": "markdown",
   "metadata": {},
   "source": [
    "Prior to creation of a linear regression model, both data sets (Edmonton Mosquito Trap Data and Edmonton Weather Data) had to be concatenated into a singular data set for analysis. During the initial inspection of the data, the following was observed:\n",
    "1. Additional logic had to be added to resolve the 'time grid' utilized by the two sets of data. Where the Mosquito Trap Data was sampled at a frequency of one data point per week, Edmonton Weather data was sampled once every hour. \n",
    "2. Because Edmonton weather data is an instantaneous measure at the recorded time, some kind of aggregation of the weather data is desired to better match the Mosquito Trap data, such as the utilization and calculation of a moving average for certain features in the weather data set (humidity, temp, dew point, wind_dir_10s, wind_speed, health_index)\n",
    "3. Within both data sets, some features have inconsistent data and therefore was ignored from the analysis. Columns with limited or no data, such as visibility, cloud cover, humidex, windchill and solar radiation were identified as unncessary to our analysis, and was removed. Similarly, rows with missing data points were also removed from our analysis.\n",
    "4. For the Edmonton Mosquito Trap data, rows marked with UnID from the IDd column represented bad data and were removed from the analysis. "
   ]
  },
  {
   "cell_type": "markdown",
   "metadata": {},
   "source": [
    "<b>Mosquito Data Pre-processing</b>"
   ]
  },
  {
   "cell_type": "markdown",
   "metadata": {},
   "source": [
    "For the Mosquito Trap data, we inferred that an average of roughly 20 observations were recorded on a weekly basis of the number of female and male mosquitoes that were caught in the recovered mosquito traps that were placedk in various locations in Edmonton. At a glance, it is clear that this data set contains data spanning from 1990 to 2020.\n",
    "\n",
    "The first desired model takes into account all mosquito genders (male and female) and therefore a method was scripted in order to facilitate ease in isolating parts of the data set we were interested in if we desired (introduction of an optional parameter to isolate either only females or only males). Additionally, the helper functions provided convenience in cleaning the data set in the following ways:\n",
    "1. The provided trap date column was processed as a datetime object for correct typing\n",
    "2. Unecessary columns of the mosquito trap data were removed. These columns included the following: 'Comparison Group', 'Genus', 'Specific Epithet', 'Trap Region', 'Latitude', 'Longitude', 'Location', 'IDd', 'Include'\n",
    "3. Removal of all rows marked as No or No Data in the Include column - from the data set description, values of No or No Data are indicative that the data is of bad quality and therefore should not be considered in our analysis.\n",
    "4. Summing of the number of mosquitoes on a given date given the mosquito data (all data, female only data, male only data)\n",
    "5. As our constructed model only requires the number of observed mosquitoes, only the summed number of mosquitoes and trap date is retained in the final data set."
   ]
  },
  {
   "cell_type": "code",
   "execution_count": 8,
   "metadata": {},
   "outputs": [
    {
     "data": {
      "text/html": [
       "<div>\n",
       "<style scoped>\n",
       "    .dataframe tbody tr th:only-of-type {\n",
       "        vertical-align: middle;\n",
       "    }\n",
       "\n",
       "    .dataframe tbody tr th {\n",
       "        vertical-align: top;\n",
       "    }\n",
       "\n",
       "    .dataframe thead th {\n",
       "        text-align: right;\n",
       "    }\n",
       "</style>\n",
       "<table border=\"1\" class=\"dataframe\">\n",
       "  <thead>\n",
       "    <tr style=\"text-align: right;\">\n",
       "      <th></th>\n",
       "      <th>Count</th>\n",
       "    </tr>\n",
       "    <tr>\n",
       "      <th>Trap Date</th>\n",
       "      <th></th>\n",
       "    </tr>\n",
       "  </thead>\n",
       "  <tbody>\n",
       "    <tr>\n",
       "      <th>1990-05-22</th>\n",
       "      <td>34</td>\n",
       "    </tr>\n",
       "    <tr>\n",
       "      <th>1990-05-29</th>\n",
       "      <td>838</td>\n",
       "    </tr>\n",
       "    <tr>\n",
       "      <th>1990-06-05</th>\n",
       "      <td>341</td>\n",
       "    </tr>\n",
       "    <tr>\n",
       "      <th>1990-06-12</th>\n",
       "      <td>223</td>\n",
       "    </tr>\n",
       "    <tr>\n",
       "      <th>1990-06-19</th>\n",
       "      <td>737</td>\n",
       "    </tr>\n",
       "    <tr>\n",
       "      <th>...</th>\n",
       "      <td>...</td>\n",
       "    </tr>\n",
       "    <tr>\n",
       "      <th>2020-08-25</th>\n",
       "      <td>645</td>\n",
       "    </tr>\n",
       "    <tr>\n",
       "      <th>2020-09-01</th>\n",
       "      <td>156</td>\n",
       "    </tr>\n",
       "    <tr>\n",
       "      <th>2020-09-08</th>\n",
       "      <td>356</td>\n",
       "    </tr>\n",
       "    <tr>\n",
       "      <th>2020-09-15</th>\n",
       "      <td>410</td>\n",
       "    </tr>\n",
       "    <tr>\n",
       "      <th>2020-09-22</th>\n",
       "      <td>330</td>\n",
       "    </tr>\n",
       "  </tbody>\n",
       "</table>\n",
       "<p>578 rows × 1 columns</p>\n",
       "</div>"
      ],
      "text/plain": [
       "            Count\n",
       "Trap Date        \n",
       "1990-05-22     34\n",
       "1990-05-29    838\n",
       "1990-06-05    341\n",
       "1990-06-12    223\n",
       "1990-06-19    737\n",
       "...           ...\n",
       "2020-08-25    645\n",
       "2020-09-01    156\n",
       "2020-09-08    356\n",
       "2020-09-15    410\n",
       "2020-09-22    330\n",
       "\n",
       "[578 rows x 1 columns]"
      ]
     },
     "execution_count": 8,
     "metadata": {},
     "output_type": "execute_result"
    }
   ],
   "source": [
    "import pandas as pd\n",
    "import numpy as np\n",
    "import matplotlib.pyplot as plt\n",
    "import seaborn as sns\n",
    "\n",
    "import helper_functions\n",
    "\n",
    "# Loading of the mosquito trap data set\n",
    "mosquito_df = pd.read_csv('data_files/Mosquito_Trap_Data.csv')\n",
    "\n",
    "# Using helper functions to clean mosquito data frame with previously discussed operations\n",
    "mosquito_df_all = helper_functions.clean_mosquito_df(mosquito_df, gender=None) # both male and female combined\n",
    "mosquito_df_all"
   ]
  },
  {
   "cell_type": "markdown",
   "metadata": {},
   "source": [
    "Following the initial clean up of just the mosquito trap data set, there are 578 rows of data, which is significantly lower than the original data set which contained 27263 rows of data. Note that this is still sensible as an average of 20 traps were collected on any given trap date, which reduces the intial row value to approximately 1363 rows of data. Additionally, a total of 829 rows were discarded as these rows were marked as No or No Data in the Include column, which signifies bad quality data. Hence, our remaining data set for the mosquito data was found to have 578 rows of data from the initial data set. "
   ]
  },
  {
   "cell_type": "markdown",
   "metadata": {},
   "source": [
    "<b>Edmonton Weather Data Pre-processing</b>"
   ]
  },
  {
   "cell_type": "markdown",
   "metadata": {},
   "source": [
    "The feature set utilized in the prediction of the number of mosquitoes found on a given trap date was taken from the Edmonton Weather data set. At a first glance of the data set, weather related data was recorded on an hourly time interval for the time period of 2017-2018.\n",
    "\n",
    "Because the Edmonton weather data consists of instantaneous recordings of Edmonton weather, it was determined that further data processing would be desirable to better relate the weather to the weekly recorded mosquito trap data. Note that in this analysis, we assume that the mosquito traps are collected from various locations on a weekly basis, and as such the number of mosquitoes that are counted are reflective of a weeks worth of mosquitoes landing in the mosquito trap. Because this observed mosquito count value is not an instantaneous value, it is appropriate to attempt to match weather data to the same observed period of time (~ 1 week).\n",
    "\n",
    "When performing data pre-processing for the weather data set, the following operations were conducted:\n",
    "1. The provided unixtime column was processed as a datetime object for correct typing\n",
    "2. Moving averages were calculated for different durations of time (1 day, 7 days, 14 days) for specific weather features ('pressure_station', 'pressure_sea', 'wind_dir_10s', 'wind_speed', 'relative_humidity', 'dew_point', 'temperature')\n",
    "3. Unecessary columns of the weather data were removed. These columns included the following: 'unixtime', 'wind_dir', 'windchill', 'humidex', 'visibility', 'health_index', 'cloud_cover_4', 'cloud_cover_8', 'cloud_cover_10', 'solar_radiation'"
   ]
  },
  {
   "cell_type": "code",
   "execution_count": 53,
   "metadata": {
    "pycharm": {
     "name": "#%%\n"
    }
   },
   "outputs": [],
   "source": [
    "# Load the weather data\n",
    "weather_df = pd.read_csv('data_files/weather_stats_edmonton.csv')\n",
    "\n",
    "# Clean weather data and perform preprocessing (performing moving average of 7D)\n",
    "weather_df = helper_functions.clean_weather_df(weather_df)\n",
    "weather_df = helper_functions.preprocess_weather(weather_df, ['7D'])"
   ]
  },
  {
   "cell_type": "markdown",
   "metadata": {},
   "source": [
    "<b>Concatenation of the Two Data Sets</b>"
   ]
  },
  {
   "cell_type": "markdown",
   "metadata": {},
   "source": [
    "Merging of the two data sets was performed with the intent of matching the trap dates given by the mosquito trap data set. Note that the range of time values given in the weather data set (2017-2018) was not extensive enough to cover the entire period covered by the mosquito trap data (1990-2020). As a result, following the merge of the two data sets, only 41 rows were present in the final merged data set.\n",
    "\n",
    "**Data Set Limitations**\n",
    "\n",
    "It is of interest to note that the limited number of samples that we were able to obtain following the merge will likely impact both training and testing of the generated models. Because the limiting data set is the Edmonton weather data, it is suggested that more weather data should be located so that more mosquito trap dates can be utilized for better prediction accuracy. As this was beyond the scope of the Mini Project, retrieval of additional weather data was not conducted; however, it is noted as a limitation for generated model prediction accuracy."
   ]
  },
  {
   "cell_type": "code",
   "execution_count": 56,
   "metadata": {},
   "outputs": [
    {
     "data": {
      "text/html": [
       "<div>\n",
       "<style scoped>\n",
       "    .dataframe tbody tr th:only-of-type {\n",
       "        vertical-align: middle;\n",
       "    }\n",
       "\n",
       "    .dataframe tbody tr th {\n",
       "        vertical-align: top;\n",
       "    }\n",
       "\n",
       "    .dataframe thead th {\n",
       "        text-align: right;\n",
       "    }\n",
       "</style>\n",
       "<table border=\"1\" class=\"dataframe\">\n",
       "  <thead>\n",
       "    <tr style=\"text-align: right;\">\n",
       "      <th></th>\n",
       "      <th>Count</th>\n",
       "      <th>pressure_station_7D</th>\n",
       "      <th>pressure_sea_7D</th>\n",
       "      <th>wind_dir_10s_7D</th>\n",
       "      <th>wind_speed_7D</th>\n",
       "      <th>relative_humidity_7D</th>\n",
       "      <th>dew_point_7D</th>\n",
       "      <th>temperature_7D</th>\n",
       "    </tr>\n",
       "    <tr>\n",
       "      <th>Trap Date</th>\n",
       "      <th></th>\n",
       "      <th></th>\n",
       "      <th></th>\n",
       "      <th></th>\n",
       "      <th></th>\n",
       "      <th></th>\n",
       "      <th></th>\n",
       "      <th></th>\n",
       "    </tr>\n",
       "  </thead>\n",
       "  <tbody>\n",
       "    <tr>\n",
       "      <th>2017-05-09</th>\n",
       "      <td>26</td>\n",
       "      <td>93.154405</td>\n",
       "      <td>101.023214</td>\n",
       "      <td>17.732143</td>\n",
       "      <td>12.922619</td>\n",
       "      <td>59.267857</td>\n",
       "      <td>3.150595</td>\n",
       "      <td>12.089881</td>\n",
       "    </tr>\n",
       "    <tr>\n",
       "      <th>2017-05-16</th>\n",
       "      <td>29</td>\n",
       "      <td>93.794464</td>\n",
       "      <td>101.717857</td>\n",
       "      <td>18.214286</td>\n",
       "      <td>11.303571</td>\n",
       "      <td>53.047619</td>\n",
       "      <td>1.845833</td>\n",
       "      <td>12.664286</td>\n",
       "    </tr>\n",
       "    <tr>\n",
       "      <th>2017-05-23</th>\n",
       "      <td>523</td>\n",
       "      <td>93.174881</td>\n",
       "      <td>100.979762</td>\n",
       "      <td>21.898810</td>\n",
       "      <td>14.404762</td>\n",
       "      <td>47.815476</td>\n",
       "      <td>3.657738</td>\n",
       "      <td>16.151190</td>\n",
       "    </tr>\n",
       "    <tr>\n",
       "      <th>2017-05-30</th>\n",
       "      <td>360</td>\n",
       "      <td>93.169167</td>\n",
       "      <td>100.948214</td>\n",
       "      <td>21.922619</td>\n",
       "      <td>14.767857</td>\n",
       "      <td>53.285714</td>\n",
       "      <td>7.225595</td>\n",
       "      <td>17.898214</td>\n",
       "    </tr>\n",
       "    <tr>\n",
       "      <th>2017-06-06</th>\n",
       "      <td>1649</td>\n",
       "      <td>92.997976</td>\n",
       "      <td>100.784524</td>\n",
       "      <td>18.130952</td>\n",
       "      <td>14.380952</td>\n",
       "      <td>58.047619</td>\n",
       "      <td>7.180357</td>\n",
       "      <td>16.838095</td>\n",
       "    </tr>\n",
       "    <tr>\n",
       "      <th>2017-06-13</th>\n",
       "      <td>2959</td>\n",
       "      <td>93.148036</td>\n",
       "      <td>100.966071</td>\n",
       "      <td>23.494048</td>\n",
       "      <td>10.785714</td>\n",
       "      <td>62.095238</td>\n",
       "      <td>7.415476</td>\n",
       "      <td>15.584524</td>\n",
       "    </tr>\n",
       "    <tr>\n",
       "      <th>2017-06-20</th>\n",
       "      <td>1868</td>\n",
       "      <td>93.819048</td>\n",
       "      <td>101.679762</td>\n",
       "      <td>24.136905</td>\n",
       "      <td>17.154762</td>\n",
       "      <td>52.720238</td>\n",
       "      <td>5.867262</td>\n",
       "      <td>16.400595</td>\n",
       "    </tr>\n",
       "    <tr>\n",
       "      <th>2017-06-27</th>\n",
       "      <td>767</td>\n",
       "      <td>93.248274</td>\n",
       "      <td>101.032738</td>\n",
       "      <td>23.863095</td>\n",
       "      <td>12.636905</td>\n",
       "      <td>65.476190</td>\n",
       "      <td>10.693452</td>\n",
       "      <td>18.035119</td>\n",
       "    </tr>\n",
       "    <tr>\n",
       "      <th>2017-07-04</th>\n",
       "      <td>1776</td>\n",
       "      <td>93.831667</td>\n",
       "      <td>101.620238</td>\n",
       "      <td>17.142857</td>\n",
       "      <td>11.345238</td>\n",
       "      <td>54.321429</td>\n",
       "      <td>10.501786</td>\n",
       "      <td>20.857143</td>\n",
       "    </tr>\n",
       "    <tr>\n",
       "      <th>2017-07-11</th>\n",
       "      <td>2242</td>\n",
       "      <td>93.593214</td>\n",
       "      <td>101.403571</td>\n",
       "      <td>20.517857</td>\n",
       "      <td>13.083333</td>\n",
       "      <td>67.232143</td>\n",
       "      <td>11.558333</td>\n",
       "      <td>18.179167</td>\n",
       "    </tr>\n",
       "    <tr>\n",
       "      <th>2017-07-18</th>\n",
       "      <td>1634</td>\n",
       "      <td>93.489345</td>\n",
       "      <td>101.314464</td>\n",
       "      <td>22.178571</td>\n",
       "      <td>11.821429</td>\n",
       "      <td>69.779762</td>\n",
       "      <td>10.426786</td>\n",
       "      <td>16.691667</td>\n",
       "    </tr>\n",
       "    <tr>\n",
       "      <th>2017-07-25</th>\n",
       "      <td>978</td>\n",
       "      <td>93.836964</td>\n",
       "      <td>101.652976</td>\n",
       "      <td>21.821429</td>\n",
       "      <td>9.916667</td>\n",
       "      <td>64.077381</td>\n",
       "      <td>11.696429</td>\n",
       "      <td>19.320833</td>\n",
       "    </tr>\n",
       "    <tr>\n",
       "      <th>2017-08-01</th>\n",
       "      <td>724</td>\n",
       "      <td>94.319940</td>\n",
       "      <td>102.220238</td>\n",
       "      <td>20.143713</td>\n",
       "      <td>7.095238</td>\n",
       "      <td>74.970238</td>\n",
       "      <td>11.399405</td>\n",
       "      <td>16.464881</td>\n",
       "    </tr>\n",
       "    <tr>\n",
       "      <th>2017-08-08</th>\n",
       "      <td>711</td>\n",
       "      <td>93.756488</td>\n",
       "      <td>101.575595</td>\n",
       "      <td>18.202381</td>\n",
       "      <td>11.214286</td>\n",
       "      <td>60.946429</td>\n",
       "      <td>10.166667</td>\n",
       "      <td>18.695833</td>\n",
       "    </tr>\n",
       "    <tr>\n",
       "      <th>2017-08-15</th>\n",
       "      <td>2107</td>\n",
       "      <td>93.427857</td>\n",
       "      <td>101.252976</td>\n",
       "      <td>26.541667</td>\n",
       "      <td>12.654762</td>\n",
       "      <td>55.648810</td>\n",
       "      <td>6.844048</td>\n",
       "      <td>16.455952</td>\n",
       "    </tr>\n",
       "    <tr>\n",
       "      <th>2017-08-22</th>\n",
       "      <td>3944</td>\n",
       "      <td>93.636071</td>\n",
       "      <td>101.451786</td>\n",
       "      <td>19.654762</td>\n",
       "      <td>9.857143</td>\n",
       "      <td>56.589286</td>\n",
       "      <td>8.842262</td>\n",
       "      <td>18.547619</td>\n",
       "    </tr>\n",
       "    <tr>\n",
       "      <th>2017-08-29</th>\n",
       "      <td>3854</td>\n",
       "      <td>93.814524</td>\n",
       "      <td>101.661310</td>\n",
       "      <td>21.815476</td>\n",
       "      <td>10.648810</td>\n",
       "      <td>60.386905</td>\n",
       "      <td>8.289881</td>\n",
       "      <td>16.781548</td>\n",
       "    </tr>\n",
       "    <tr>\n",
       "      <th>2017-09-05</th>\n",
       "      <td>791</td>\n",
       "      <td>93.569880</td>\n",
       "      <td>101.390419</td>\n",
       "      <td>21.784431</td>\n",
       "      <td>9.850299</td>\n",
       "      <td>52.760479</td>\n",
       "      <td>6.075449</td>\n",
       "      <td>17.547305</td>\n",
       "    </tr>\n",
       "    <tr>\n",
       "      <th>2017-09-12</th>\n",
       "      <td>1825</td>\n",
       "      <td>93.695060</td>\n",
       "      <td>101.645238</td>\n",
       "      <td>18.571429</td>\n",
       "      <td>11.071429</td>\n",
       "      <td>69.095238</td>\n",
       "      <td>3.820833</td>\n",
       "      <td>9.902381</td>\n",
       "    </tr>\n",
       "    <tr>\n",
       "      <th>2017-09-19</th>\n",
       "      <td>168</td>\n",
       "      <td>93.110238</td>\n",
       "      <td>101.062560</td>\n",
       "      <td>24.773810</td>\n",
       "      <td>11.767857</td>\n",
       "      <td>80.523810</td>\n",
       "      <td>3.761310</td>\n",
       "      <td>7.295238</td>\n",
       "    </tr>\n",
       "    <tr>\n",
       "      <th>2017-09-26</th>\n",
       "      <td>292</td>\n",
       "      <td>93.609756</td>\n",
       "      <td>101.502195</td>\n",
       "      <td>26.322981</td>\n",
       "      <td>14.676829</td>\n",
       "      <td>62.469512</td>\n",
       "      <td>4.759756</td>\n",
       "      <td>12.478659</td>\n",
       "    </tr>\n",
       "    <tr>\n",
       "      <th>2018-05-15</th>\n",
       "      <td>173</td>\n",
       "      <td>93.715476</td>\n",
       "      <td>101.557262</td>\n",
       "      <td>17.386905</td>\n",
       "      <td>15.500000</td>\n",
       "      <td>43.577381</td>\n",
       "      <td>2.680952</td>\n",
       "      <td>16.910714</td>\n",
       "    </tr>\n",
       "    <tr>\n",
       "      <th>2018-05-22</th>\n",
       "      <td>1256</td>\n",
       "      <td>93.216071</td>\n",
       "      <td>100.969048</td>\n",
       "      <td>20.613095</td>\n",
       "      <td>11.386905</td>\n",
       "      <td>39.892857</td>\n",
       "      <td>4.730952</td>\n",
       "      <td>20.192262</td>\n",
       "    </tr>\n",
       "    <tr>\n",
       "      <th>2018-05-29</th>\n",
       "      <td>3405</td>\n",
       "      <td>93.480357</td>\n",
       "      <td>101.364286</td>\n",
       "      <td>17.191617</td>\n",
       "      <td>12.250000</td>\n",
       "      <td>59.803571</td>\n",
       "      <td>3.771429</td>\n",
       "      <td>12.823810</td>\n",
       "    </tr>\n",
       "    <tr>\n",
       "      <th>2018-06-05</th>\n",
       "      <td>2909</td>\n",
       "      <td>92.775298</td>\n",
       "      <td>100.544226</td>\n",
       "      <td>20.690476</td>\n",
       "      <td>14.750000</td>\n",
       "      <td>52.333333</td>\n",
       "      <td>4.717857</td>\n",
       "      <td>16.133333</td>\n",
       "    </tr>\n",
       "    <tr>\n",
       "      <th>2018-06-12</th>\n",
       "      <td>9918</td>\n",
       "      <td>93.329583</td>\n",
       "      <td>101.167262</td>\n",
       "      <td>22.702381</td>\n",
       "      <td>13.333333</td>\n",
       "      <td>54.011905</td>\n",
       "      <td>5.254762</td>\n",
       "      <td>15.592857</td>\n",
       "    </tr>\n",
       "    <tr>\n",
       "      <th>2018-06-19</th>\n",
       "      <td>3322</td>\n",
       "      <td>93.405893</td>\n",
       "      <td>101.138869</td>\n",
       "      <td>21.267857</td>\n",
       "      <td>12.261905</td>\n",
       "      <td>49.505952</td>\n",
       "      <td>10.367262</td>\n",
       "      <td>22.429762</td>\n",
       "    </tr>\n",
       "    <tr>\n",
       "      <th>2018-06-26</th>\n",
       "      <td>3511</td>\n",
       "      <td>93.032560</td>\n",
       "      <td>100.822619</td>\n",
       "      <td>27.035714</td>\n",
       "      <td>14.142857</td>\n",
       "      <td>49.428571</td>\n",
       "      <td>4.825000</td>\n",
       "      <td>16.267262</td>\n",
       "    </tr>\n",
       "    <tr>\n",
       "      <th>2018-07-03</th>\n",
       "      <td>1851</td>\n",
       "      <td>93.843214</td>\n",
       "      <td>101.682738</td>\n",
       "      <td>22.994048</td>\n",
       "      <td>11.184524</td>\n",
       "      <td>60.773810</td>\n",
       "      <td>9.321429</td>\n",
       "      <td>17.940476</td>\n",
       "    </tr>\n",
       "    <tr>\n",
       "      <th>2018-07-10</th>\n",
       "      <td>5446</td>\n",
       "      <td>93.787143</td>\n",
       "      <td>101.600417</td>\n",
       "      <td>23.791667</td>\n",
       "      <td>12.297619</td>\n",
       "      <td>54.369048</td>\n",
       "      <td>8.566667</td>\n",
       "      <td>19.225595</td>\n",
       "    </tr>\n",
       "    <tr>\n",
       "      <th>2018-07-17</th>\n",
       "      <td>2072</td>\n",
       "      <td>93.765476</td>\n",
       "      <td>101.581488</td>\n",
       "      <td>22.005988</td>\n",
       "      <td>11.464286</td>\n",
       "      <td>62.279762</td>\n",
       "      <td>10.398810</td>\n",
       "      <td>18.792857</td>\n",
       "    </tr>\n",
       "    <tr>\n",
       "      <th>2018-07-24</th>\n",
       "      <td>1895</td>\n",
       "      <td>94.317976</td>\n",
       "      <td>102.180952</td>\n",
       "      <td>21.407186</td>\n",
       "      <td>7.511905</td>\n",
       "      <td>55.125000</td>\n",
       "      <td>8.955357</td>\n",
       "      <td>19.232738</td>\n",
       "    </tr>\n",
       "    <tr>\n",
       "      <th>2018-07-31</th>\n",
       "      <td>2193</td>\n",
       "      <td>93.457857</td>\n",
       "      <td>101.239286</td>\n",
       "      <td>23.636905</td>\n",
       "      <td>12.184524</td>\n",
       "      <td>65.946429</td>\n",
       "      <td>12.199405</td>\n",
       "      <td>19.412500</td>\n",
       "    </tr>\n",
       "    <tr>\n",
       "      <th>2018-08-07</th>\n",
       "      <td>2207</td>\n",
       "      <td>93.658393</td>\n",
       "      <td>101.456131</td>\n",
       "      <td>18.869048</td>\n",
       "      <td>10.851190</td>\n",
       "      <td>59.113095</td>\n",
       "      <td>9.425000</td>\n",
       "      <td>19.105952</td>\n",
       "    </tr>\n",
       "    <tr>\n",
       "      <th>2018-08-14</th>\n",
       "      <td>2177</td>\n",
       "      <td>93.887500</td>\n",
       "      <td>101.732738</td>\n",
       "      <td>23.796407</td>\n",
       "      <td>8.779762</td>\n",
       "      <td>57.196429</td>\n",
       "      <td>8.345833</td>\n",
       "      <td>17.872024</td>\n",
       "    </tr>\n",
       "    <tr>\n",
       "      <th>2018-08-21</th>\n",
       "      <td>1134</td>\n",
       "      <td>93.407857</td>\n",
       "      <td>101.263690</td>\n",
       "      <td>25.221557</td>\n",
       "      <td>9.797619</td>\n",
       "      <td>66.571429</td>\n",
       "      <td>7.042262</td>\n",
       "      <td>14.044643</td>\n",
       "    </tr>\n",
       "    <tr>\n",
       "      <th>2018-08-28</th>\n",
       "      <td>636</td>\n",
       "      <td>93.138869</td>\n",
       "      <td>100.998214</td>\n",
       "      <td>24.748503</td>\n",
       "      <td>11.803571</td>\n",
       "      <td>67.357143</td>\n",
       "      <td>6.021429</td>\n",
       "      <td>12.569643</td>\n",
       "    </tr>\n",
       "    <tr>\n",
       "      <th>2018-09-04</th>\n",
       "      <td>344</td>\n",
       "      <td>93.895714</td>\n",
       "      <td>101.830179</td>\n",
       "      <td>18.988024</td>\n",
       "      <td>10.470238</td>\n",
       "      <td>65.910714</td>\n",
       "      <td>5.266071</td>\n",
       "      <td>12.188095</td>\n",
       "    </tr>\n",
       "    <tr>\n",
       "      <th>2018-09-11</th>\n",
       "      <td>518</td>\n",
       "      <td>93.907976</td>\n",
       "      <td>101.989286</td>\n",
       "      <td>18.341317</td>\n",
       "      <td>10.309524</td>\n",
       "      <td>88.214286</td>\n",
       "      <td>1.121429</td>\n",
       "      <td>3.014881</td>\n",
       "    </tr>\n",
       "    <tr>\n",
       "      <th>2018-09-18</th>\n",
       "      <td>33</td>\n",
       "      <td>94.015179</td>\n",
       "      <td>102.101190</td>\n",
       "      <td>17.369048</td>\n",
       "      <td>10.982143</td>\n",
       "      <td>79.053571</td>\n",
       "      <td>0.160714</td>\n",
       "      <td>3.858333</td>\n",
       "    </tr>\n",
       "    <tr>\n",
       "      <th>2018-09-25</th>\n",
       "      <td>28</td>\n",
       "      <td>94.235298</td>\n",
       "      <td>102.311131</td>\n",
       "      <td>22.880952</td>\n",
       "      <td>10.130952</td>\n",
       "      <td>66.589286</td>\n",
       "      <td>-1.219048</td>\n",
       "      <td>4.839286</td>\n",
       "    </tr>\n",
       "  </tbody>\n",
       "</table>\n",
       "</div>"
      ],
      "text/plain": [
       "            Count  pressure_station_7D  pressure_sea_7D  wind_dir_10s_7D  \\\n",
       "Trap Date                                                                  \n",
       "2017-05-09     26            93.154405       101.023214        17.732143   \n",
       "2017-05-16     29            93.794464       101.717857        18.214286   \n",
       "2017-05-23    523            93.174881       100.979762        21.898810   \n",
       "2017-05-30    360            93.169167       100.948214        21.922619   \n",
       "2017-06-06   1649            92.997976       100.784524        18.130952   \n",
       "2017-06-13   2959            93.148036       100.966071        23.494048   \n",
       "2017-06-20   1868            93.819048       101.679762        24.136905   \n",
       "2017-06-27    767            93.248274       101.032738        23.863095   \n",
       "2017-07-04   1776            93.831667       101.620238        17.142857   \n",
       "2017-07-11   2242            93.593214       101.403571        20.517857   \n",
       "2017-07-18   1634            93.489345       101.314464        22.178571   \n",
       "2017-07-25    978            93.836964       101.652976        21.821429   \n",
       "2017-08-01    724            94.319940       102.220238        20.143713   \n",
       "2017-08-08    711            93.756488       101.575595        18.202381   \n",
       "2017-08-15   2107            93.427857       101.252976        26.541667   \n",
       "2017-08-22   3944            93.636071       101.451786        19.654762   \n",
       "2017-08-29   3854            93.814524       101.661310        21.815476   \n",
       "2017-09-05    791            93.569880       101.390419        21.784431   \n",
       "2017-09-12   1825            93.695060       101.645238        18.571429   \n",
       "2017-09-19    168            93.110238       101.062560        24.773810   \n",
       "2017-09-26    292            93.609756       101.502195        26.322981   \n",
       "2018-05-15    173            93.715476       101.557262        17.386905   \n",
       "2018-05-22   1256            93.216071       100.969048        20.613095   \n",
       "2018-05-29   3405            93.480357       101.364286        17.191617   \n",
       "2018-06-05   2909            92.775298       100.544226        20.690476   \n",
       "2018-06-12   9918            93.329583       101.167262        22.702381   \n",
       "2018-06-19   3322            93.405893       101.138869        21.267857   \n",
       "2018-06-26   3511            93.032560       100.822619        27.035714   \n",
       "2018-07-03   1851            93.843214       101.682738        22.994048   \n",
       "2018-07-10   5446            93.787143       101.600417        23.791667   \n",
       "2018-07-17   2072            93.765476       101.581488        22.005988   \n",
       "2018-07-24   1895            94.317976       102.180952        21.407186   \n",
       "2018-07-31   2193            93.457857       101.239286        23.636905   \n",
       "2018-08-07   2207            93.658393       101.456131        18.869048   \n",
       "2018-08-14   2177            93.887500       101.732738        23.796407   \n",
       "2018-08-21   1134            93.407857       101.263690        25.221557   \n",
       "2018-08-28    636            93.138869       100.998214        24.748503   \n",
       "2018-09-04    344            93.895714       101.830179        18.988024   \n",
       "2018-09-11    518            93.907976       101.989286        18.341317   \n",
       "2018-09-18     33            94.015179       102.101190        17.369048   \n",
       "2018-09-25     28            94.235298       102.311131        22.880952   \n",
       "\n",
       "            wind_speed_7D  relative_humidity_7D  dew_point_7D  temperature_7D  \n",
       "Trap Date                                                                      \n",
       "2017-05-09      12.922619             59.267857      3.150595       12.089881  \n",
       "2017-05-16      11.303571             53.047619      1.845833       12.664286  \n",
       "2017-05-23      14.404762             47.815476      3.657738       16.151190  \n",
       "2017-05-30      14.767857             53.285714      7.225595       17.898214  \n",
       "2017-06-06      14.380952             58.047619      7.180357       16.838095  \n",
       "2017-06-13      10.785714             62.095238      7.415476       15.584524  \n",
       "2017-06-20      17.154762             52.720238      5.867262       16.400595  \n",
       "2017-06-27      12.636905             65.476190     10.693452       18.035119  \n",
       "2017-07-04      11.345238             54.321429     10.501786       20.857143  \n",
       "2017-07-11      13.083333             67.232143     11.558333       18.179167  \n",
       "2017-07-18      11.821429             69.779762     10.426786       16.691667  \n",
       "2017-07-25       9.916667             64.077381     11.696429       19.320833  \n",
       "2017-08-01       7.095238             74.970238     11.399405       16.464881  \n",
       "2017-08-08      11.214286             60.946429     10.166667       18.695833  \n",
       "2017-08-15      12.654762             55.648810      6.844048       16.455952  \n",
       "2017-08-22       9.857143             56.589286      8.842262       18.547619  \n",
       "2017-08-29      10.648810             60.386905      8.289881       16.781548  \n",
       "2017-09-05       9.850299             52.760479      6.075449       17.547305  \n",
       "2017-09-12      11.071429             69.095238      3.820833        9.902381  \n",
       "2017-09-19      11.767857             80.523810      3.761310        7.295238  \n",
       "2017-09-26      14.676829             62.469512      4.759756       12.478659  \n",
       "2018-05-15      15.500000             43.577381      2.680952       16.910714  \n",
       "2018-05-22      11.386905             39.892857      4.730952       20.192262  \n",
       "2018-05-29      12.250000             59.803571      3.771429       12.823810  \n",
       "2018-06-05      14.750000             52.333333      4.717857       16.133333  \n",
       "2018-06-12      13.333333             54.011905      5.254762       15.592857  \n",
       "2018-06-19      12.261905             49.505952     10.367262       22.429762  \n",
       "2018-06-26      14.142857             49.428571      4.825000       16.267262  \n",
       "2018-07-03      11.184524             60.773810      9.321429       17.940476  \n",
       "2018-07-10      12.297619             54.369048      8.566667       19.225595  \n",
       "2018-07-17      11.464286             62.279762     10.398810       18.792857  \n",
       "2018-07-24       7.511905             55.125000      8.955357       19.232738  \n",
       "2018-07-31      12.184524             65.946429     12.199405       19.412500  \n",
       "2018-08-07      10.851190             59.113095      9.425000       19.105952  \n",
       "2018-08-14       8.779762             57.196429      8.345833       17.872024  \n",
       "2018-08-21       9.797619             66.571429      7.042262       14.044643  \n",
       "2018-08-28      11.803571             67.357143      6.021429       12.569643  \n",
       "2018-09-04      10.470238             65.910714      5.266071       12.188095  \n",
       "2018-09-11      10.309524             88.214286      1.121429        3.014881  \n",
       "2018-09-18      10.982143             79.053571      0.160714        3.858333  \n",
       "2018-09-25      10.130952             66.589286     -1.219048        4.839286  "
      ]
     },
     "execution_count": 56,
     "metadata": {},
     "output_type": "execute_result"
    }
   ],
   "source": [
    "merged_df = helper_functions.merge_mosquito_weather_data(mosquito_df_all, weather_df)\n",
    "\n",
    "# Removal of columns that reflect instantaenous observations as we will lean towards using moving averages \n",
    "# for the creation of the models\n",
    "instantaneous_weather_recordings = ['pressure_station', 'pressure_sea', 'wind_dir_10s', 'wind_speed',\n",
    "                                   'wind_gust', 'relative_humidity', 'dew_point', 'temperature']\n",
    "merged_df.drop(columns=instantaneous_weather_recordings, inplace=True)\n",
    "\n",
    "# Display the merged data frame\n",
    "merged_df"
   ]
  },
  {
   "cell_type": "code",
   "execution_count": 57,
   "metadata": {},
   "outputs": [
    {
     "data": {
      "text/plain": [
       "<AxesSubplot:xlabel='temperature_7D', ylabel='Count'>"
      ]
     },
     "execution_count": 57,
     "metadata": {},
     "output_type": "execute_result"
    },
    {
     "data": {
      "image/png": "[encoded data removed]",
      "text/plain": [
       "<Figure size 432x288 with 1 Axes>"
      ]
     },
     "metadata": {
      "needs_background": "light"
     },
     "output_type": "display_data"
    }
   ],
   "source": [
    "sns.scatterplot(data=merged_df, x='temperature_7D', y='Count', hue='dew_point_7D', size='wind_speed_7D')"
   ]
  },
  {
   "cell_type": "markdown",
   "metadata": {},
   "source": [
    "### Regression Models"
   ]
  },
  {
   "cell_type": "markdown",
   "metadata": {},
   "source": [
    "The first model of interest is the creation of a linear regression model that predicts the number of mosquitoes (in the collected mosquito traps) based on observed Edmonton weather features. For this analysis, the total number of mosquitoes are used."
   ]
  },
  {
   "cell_type": "markdown",
   "metadata": {},
   "source": [
    "<b>1. Number of Mosquitos vs. Weather Features (Linear Regression)</b>"
   ]
  },
  {
   "cell_type": "markdown",
   "metadata": {},
   "source": [
    "To facilitate training of the model, we must first divide our limited data samples into a training and testing set. The training set consists of 70% of the data, while the validation/testing set consists of the remaining 30% of the data."
   ]
  },
  {
   "cell_type": "code",
   "execution_count": 64,
   "metadata": {},
   "outputs": [],
   "source": [
    "from sklearn.model_selection import train_test_split\n",
    "\n",
    "# Define feature set (weather features) and resulting output (number of mosquitoes)\n",
    "X = merged_df.drop(columns=['Count'])\n",
    "Y = merged_df['Count']\n",
    "\n",
    "# Split data into training and testing set\n",
    "X_train, X_test, Y_train, Y_test = train_test_split(X , Y , test_size = 0.3, random_state = 0)"
   ]
  },
  {
   "cell_type": "code",
   "execution_count": 65,
   "metadata": {},
   "outputs": [
    {
     "data": {
      "image/png": "[encoded data removed]",
      "text/plain": [
       "<Figure size 432x288 with 1 Axes>"
      ]
     },
     "metadata": {
      "needs_background": "light"
     },
     "output_type": "display_data"
    }
   ],
   "source": [
    "# Plotting one of the features\n",
    "plt.scatter(X_train['relative_humidity_7D'], Y_train,label='train')\n",
    "plt.scatter(X_test['relative_humidity_7D'],Y_test, label='test')\n",
    "plt.title('Relative Humidity 7D')\n",
    "plt.legend();"
   ]
  },
  {
   "cell_type": "markdown",
   "metadata": {},
   "source": [
    "Use different cost functions, perform analysis of constructed models, apply normalization and\n",
    "standardization, feature selection."
   ]
  },
  {
   "cell_type": "code",
   "execution_count": 74,
   "metadata": {},
   "outputs": [
    {
     "data": {
      "text/plain": [
       "LinearRegression()"
      ]
     },
     "execution_count": 74,
     "metadata": {},
     "output_type": "execute_result"
    }
   ],
   "source": [
    "from sklearn import linear_model\n",
    "\n",
    "lreg = linear_model.LinearRegression()\n",
    "lreg.fit(X_train, Y_train)\n",
    "\n",
    "# Apply normalization and standardization\n",
    "# Different cost functions?\n",
    "# Feature selection?"
   ]
  },
  {
   "cell_type": "code",
   "execution_count": 75,
   "metadata": {},
   "outputs": [
    {
     "data": {
      "text/plain": [
       "(668.8776133491525, -148.85296348770473)"
      ]
     },
     "execution_count": 75,
     "metadata": {},
     "output_type": "execute_result"
    }
   ],
   "source": [
    "wsk = lreg.intercept_,lreg.coef_[0]\n",
    "wsk"
   ]
  },
  {
   "cell_type": "code",
   "execution_count": null,
   "metadata": {},
   "outputs": [],
   "source": [
    "# Placeholder for model analysis"
   ]
  },
  {
   "cell_type": "markdown",
   "metadata": {},
   "source": [
    "<b>2. Number of Female Mosquitos vs. Weather Features (Linear Regression)</b>"
   ]
  },
  {
   "cell_type": "code",
   "execution_count": 66,
   "metadata": {},
   "outputs": [],
   "source": [
    "# Isolation of the female mosquito data set for part b of the first task\n",
    "mosquito_df_female = helper_functions.clean_mosquito_df(mosquito_df, gender='Female')\n",
    "\n",
    "# Merging of the female mosquito and weather data set\n",
    "merged_df = helper_functions.merge_mosquito_weather_data(mosquito_df_female, weather_df)"
   ]
  },
  {
   "cell_type": "code",
   "execution_count": 67,
   "metadata": {},
   "outputs": [],
   "source": [
    "# Re-initialize the merged data\n",
    "\n",
    "X = merged_df.drop(columns=['Count'])\n",
    "Y = merged_df['Count']"
   ]
  },
  {
   "cell_type": "code",
   "execution_count": 68,
   "metadata": {},
   "outputs": [],
   "source": [
    "from sklearn.model_selection import train_test_split\n",
    "\n",
    "X_train, X_test, Y_train, Y_test = train_test_split( X , Y , test_size = 0.3, random_state = 0)"
   ]
  },
  {
   "cell_type": "markdown",
   "metadata": {},
   "source": [
    "Use different cost functions, perform analysis of constructed models, apply normalization and\n",
    "standardization, feature selection."
   ]
  },
  {
   "cell_type": "code",
   "execution_count": 69,
   "metadata": {},
   "outputs": [
    {
     "data": {
      "text/plain": [
       "LinearRegression()"
      ]
     },
     "execution_count": 69,
     "metadata": {},
     "output_type": "execute_result"
    }
   ],
   "source": [
    "sklreg = linear_model.LinearRegression()\n",
    "sklreg.fit(X_train,Y_train)"
   ]
  },
  {
   "cell_type": "code",
   "execution_count": 70,
   "metadata": {},
   "outputs": [
    {
     "data": {
      "text/plain": [
       "LinearRegression()"
      ]
     },
     "execution_count": 70,
     "metadata": {},
     "output_type": "execute_result"
    }
   ],
   "source": [
    "# Using Standardization\n",
    "from sklearn.preprocessing import StandardScaler\n",
    "X_train_scaled = StandardScaler().fit_transform(X_train)\n",
    "\n",
    "sklreg.fit(X_train_scaled, Y_train)"
   ]
  },
  {
   "cell_type": "code",
   "execution_count": 71,
   "metadata": {},
   "outputs": [],
   "source": [
    "Y_pred_sk = sklreg.predict(X_test)"
   ]
  },
  {
   "cell_type": "markdown",
   "metadata": {},
   "source": [
    "<b>Model C: Number of Female Mosquitos vs. Weather Features (Polynomial Regression)</b>"
   ]
  },
  {
   "cell_type": "markdown",
   "metadata": {},
   "source": [
    "The third constructed model is polynomial regression. Polynomial regression is similar to linear regression; however, **continue blurb here**"
   ]
  },
  {
   "cell_type": "markdown",
   "metadata": {},
   "source": [
    "<b>Feature Selection</b>"
   ]
  },
  {
   "cell_type": "code",
   "execution_count": 22,
   "metadata": {},
   "outputs": [],
   "source": [
    "from sklearn.feature_selection import f_regression\n",
    "from sklearn.model_selection import train_test_split\n",
    "\n",
    "X = merged_df.drop(columns=['Count'])\n",
    "Y = merged_df['Count']\n",
    "\n",
    "X_train, X_test, Y_train, Y_test = train_test_split( X , Y , test_size = 0.3, random_state = 0)"
   ]
  },
  {
   "cell_type": "markdown",
   "metadata": {},
   "source": [
    "For regression analysis, an F-test should be performed to ascertain the most significant features of the data set. This is done to remove features that do not contribute to the model's performance and determine which features are most signifant prior to proceeding to our final analysis. In particular, the F-test estimates the degree to which there is a linear dependency between two random variables when comparing their variances (in our case, the feature set and the output lable), and the p value allows us to determine significance through the validation or rejection of the null hypothesis. The null hypothesis assumes that there is no relationship between a given input feature and an output. "
   ]
  },
  {
   "cell_type": "code",
   "execution_count": 23,
   "metadata": {},
   "outputs": [],
   "source": [
    "from sklearn.preprocessing import PolynomialFeatures\n",
    "poly_features = PolynomialFeatures(degree=3, include_bias=False)\n",
    "X_poly = poly_features.fit_transform(X)"
   ]
  },
  {
   "cell_type": "code",
   "execution_count": 24,
   "metadata": {},
   "outputs": [
    {
     "data": {
      "text/html": [
       "<div>\n",
       "<style scoped>\n",
       "    .dataframe tbody tr th:only-of-type {\n",
       "        vertical-align: middle;\n",
       "    }\n",
       "\n",
       "    .dataframe tbody tr th {\n",
       "        vertical-align: top;\n",
       "    }\n",
       "\n",
       "    .dataframe thead th {\n",
       "        text-align: right;\n",
       "    }\n",
       "</style>\n",
       "<table border=\"1\" class=\"dataframe\">\n",
       "  <thead>\n",
       "    <tr style=\"text-align: right;\">\n",
       "      <th></th>\n",
       "      <th>feature</th>\n",
       "      <th>F_test</th>\n",
       "      <th>p_value</th>\n",
       "    </tr>\n",
       "  </thead>\n",
       "  <tbody>\n",
       "    <tr>\n",
       "      <th>0</th>\n",
       "      <td>x0</td>\n",
       "      <td>0.370846</td>\n",
       "      <td>0.546075</td>\n",
       "    </tr>\n",
       "    <tr>\n",
       "      <th>1</th>\n",
       "      <td>x1</td>\n",
       "      <td>0.715319</td>\n",
       "      <td>0.402843</td>\n",
       "    </tr>\n",
       "    <tr>\n",
       "      <th>2</th>\n",
       "      <td>x2</td>\n",
       "      <td>0.082041</td>\n",
       "      <td>0.776066</td>\n",
       "    </tr>\n",
       "    <tr>\n",
       "      <th>3</th>\n",
       "      <td>x3</td>\n",
       "      <td>1.998402</td>\n",
       "      <td>0.165398</td>\n",
       "    </tr>\n",
       "    <tr>\n",
       "      <th>4</th>\n",
       "      <td>x4</td>\n",
       "      <td>0.000401</td>\n",
       "      <td>0.984134</td>\n",
       "    </tr>\n",
       "    <tr>\n",
       "      <th>...</th>\n",
       "      <td>...</td>\n",
       "      <td>...</td>\n",
       "      <td>...</td>\n",
       "    </tr>\n",
       "    <tr>\n",
       "      <th>4954</th>\n",
       "      <td>x26 x28^2</td>\n",
       "      <td>12.761225</td>\n",
       "      <td>0.000960</td>\n",
       "    </tr>\n",
       "    <tr>\n",
       "      <th>4955</th>\n",
       "      <td>x27^3</td>\n",
       "      <td>7.701968</td>\n",
       "      <td>0.008426</td>\n",
       "    </tr>\n",
       "    <tr>\n",
       "      <th>4956</th>\n",
       "      <td>x27^2 x28</td>\n",
       "      <td>10.631833</td>\n",
       "      <td>0.002311</td>\n",
       "    </tr>\n",
       "    <tr>\n",
       "      <th>4957</th>\n",
       "      <td>x27 x28^2</td>\n",
       "      <td>13.445303</td>\n",
       "      <td>0.000731</td>\n",
       "    </tr>\n",
       "    <tr>\n",
       "      <th>4958</th>\n",
       "      <td>x28^3</td>\n",
       "      <td>15.583629</td>\n",
       "      <td>0.000320</td>\n",
       "    </tr>\n",
       "  </tbody>\n",
       "</table>\n",
       "<p>4959 rows × 3 columns</p>\n",
       "</div>"
      ],
      "text/plain": [
       "        feature     F_test   p_value\n",
       "0            x0   0.370846  0.546075\n",
       "1            x1   0.715319  0.402843\n",
       "2            x2   0.082041  0.776066\n",
       "3            x3   1.998402  0.165398\n",
       "4            x4   0.000401  0.984134\n",
       "...         ...        ...       ...\n",
       "4954  x26 x28^2  12.761225  0.000960\n",
       "4955      x27^3   7.701968  0.008426\n",
       "4956  x27^2 x28  10.631833  0.002311\n",
       "4957  x27 x28^2  13.445303  0.000731\n",
       "4958      x28^3  15.583629  0.000320\n",
       "\n",
       "[4959 rows x 3 columns]"
      ]
     },
     "execution_count": 24,
     "metadata": {},
     "output_type": "execute_result"
    }
   ],
   "source": [
    "F_test,p_value = f_regression(X_poly,Y)\n",
    "pd.DataFrame({'feature':poly_features.get_feature_names(),\n",
    "              'F_test':F_test,'p_value':p_value})"
   ]
  },
  {
   "cell_type": "markdown",
   "metadata": {},
   "source": [
    "Following the F-test and p value analysis, selection of the best features is performed. "
   ]
  },
  {
   "cell_type": "code",
   "execution_count": 25,
   "metadata": {},
   "outputs": [],
   "source": [
    "from sklearn.feature_selection import SelectKBest\n",
    "\n",
    "X_best = SelectKBest(f_regression).fit_transform(X_poly, Y)"
   ]
  },
  {
   "cell_type": "code",
   "execution_count": 26,
   "metadata": {},
   "outputs": [
    {
     "data": {
      "text/plain": [
       "((41, 4959), (41, 10))"
      ]
     },
     "execution_count": 26,
     "metadata": {},
     "output_type": "execute_result"
    }
   ],
   "source": [
    "X_poly.shape, X_best.shape"
   ]
  },
  {
   "cell_type": "code",
   "execution_count": 27,
   "metadata": {},
   "outputs": [
    {
     "data": {
      "text/plain": [
       "(1.0, -0.22706995504147098)"
      ]
     },
     "execution_count": 27,
     "metadata": {},
     "output_type": "execute_result"
    }
   ],
   "source": [
    "from sklearn.preprocessing import PolynomialFeatures\n",
    "\n",
    "poly_features = PolynomialFeatures(degree=2)\n",
    "X_train_poly = poly_features.fit_transform(X_train)\n",
    "\n",
    "sklreg_poly = linear_model.LinearRegression()\n",
    "sklreg_poly.fit(X_train_poly,Y_train)\n",
    "\n",
    "Xl = np.linspace(0, 1, 100).reshape(100,1)\n",
    "Xl_poly = poly_features.fit_transform(Xl)\n",
    "\n",
    "# Y_pred = sklreg_poly.predict(Xl_poly)\n",
    "# plt.scatter(X_train,Y_train)\n",
    "# plt.plot(Xl,Y_pred,'r');\n",
    "\n",
    "sklreg_poly.score(X_train_poly,Y_train),sklreg_poly.score(poly_features.fit_transform(X_test),Y_test)"
   ]
  },
  {
   "cell_type": "code",
   "execution_count": 28,
   "metadata": {},
   "outputs": [],
   "source": [
    "from sklearn.pipeline import Pipeline\n",
    "from sklearn.preprocessing import PolynomialFeatures\n",
    "from sklearn.linear_model import LinearRegression\n",
    "from sklearn.model_selection import cross_val_score\n",
    "from sklearn.metrics import mean_squared_error\n",
    "\n",
    "def plot_models(X,Y,X_test, Y_test, degrees):\n",
    "    for i,degree in enumerate(degrees):\n",
    "        ax = plt.subplot(1, len(degrees), i + 1)\n",
    "        poly_features = PolynomialFeatures(degree=degree)\n",
    "        sklreg = linear_model.LinearRegression()\n",
    "        pipeline = Pipeline([(\"polynomial_features\", poly_features),\n",
    "                             (\"linear_regression\", sklreg)])\n",
    "        pipeline.fit(X,Y)\n",
    "        Y_pred = pipeline.predict(X)\n",
    "        plt.plot(X_test, pipeline.predict(X_test), label=\"Model\")\n",
    "        plt.scatter(X, Y, edgecolor='b', s=20, label=\"Samples\")\n",
    "        plt.scatter(X_test, Y_test, edgecolor='r',s=15, label=\"Test\")\n",
    "        plt.xlabel(\"x\")\n",
    "        plt.title(\"Degree {}\".format(degree))\n",
    "        plt.legend(loc=\"best\")"
   ]
  }
 ],
 "metadata": {
  "kernelspec": {
   "display_name": "Python 3",
   "language": "python",
   "name": "python3"
  },
  "language_info": {
   "codemirror_mode": {
    "name": "ipython",
    "version": 3
   },
   "file_extension": ".py",
   "mimetype": "text/x-python",
   "name": "python",
   "nbconvert_exporter": "python",
   "pygments_lexer": "ipython3",
   "version": "3.7.9"
  }
 },
 "nbformat": 4,
 "nbformat_minor": 1
}
